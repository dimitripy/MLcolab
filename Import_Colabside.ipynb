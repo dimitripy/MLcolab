{
 "cells": [
  {
   "cell_type": "markdown",
   "metadata": {},
   "source": [
    "TODO: kann ggf. auch in das Control Center eingefügt werden"
   ]
  },
  {
   "cell_type": "code",
   "execution_count": null,
   "metadata": {},
   "outputs": [],
   "source": [
    "from google.colab import drive\n",
    "import os\n",
    "import shutil\n",
    "\n",
    "\n",
    "# Mount Google Drive, falls es noch nicht gemountet ist\n",
    "if not os.path.ismount('/content/drive'):\n",
    "    drive.mount('/content/drive')\n",
    "else:\n",
    "    print(\"Google Drive ist bereits gemountet.\")\n",
    "\n",
    "# Parameter als Variablen speichern\n",
    "git_repo_url = 'https://github.com/dimitripy/MLcoworker.git'\n",
    "branch_name = 'slim'\n",
    "temp_dir = '/content/temp_repo'\n",
    "target_dir = '/content/drive/MyDrive/Colab_Notebooks/MLcoworker/ColabSide'\n",
    "source_subdir_name = 'ColabSide'\n"
   ]
  },
  {
   "cell_type": "code",
   "execution_count": null,
   "metadata": {},
   "outputs": [],
   "source": [
    "\n",
    "# Funktion zum Klonen des Repositories und Kopieren des Verzeichnisses\n",
    "def clone_and_setup(git_repo_url, branch_name, temp_dir, target_dir, source_subdir_name):\n",
    "    # Erstelle das Zielverzeichnis, falls es nicht existiert\n",
    "    os.makedirs(target_dir, exist_ok=True)\n",
    "\n",
    "    # Klone den spezifischen Branch des Git-Repositorys in das temporäre Verzeichnis\n",
    "    !git clone --branch {branch_name} {git_repo_url} {temp_dir}\n",
    "\n",
    "    # Verzeichnis im geklonten Repository, das kopiert werden soll\n",
    "    source_subdir = os.path.join(temp_dir, source_subdir_name)\n",
    "\n",
    "    # Kopiere den Inhalt des gewünschten Verzeichnisses in das Zielverzeichnis\n",
    "    for item in os.listdir(source_subdir):\n",
    "        s = os.path.join(source_subdir, item)\n",
    "        d = os.path.join(target_dir, item)\n",
    "        if os.path.isdir(s):\n",
    "            shutil.copytree(s, d, dirs_exist_ok=True)\n",
    "        else:\n",
    "            shutil.copy2(s, d)\n",
    "\n",
    "    # Lösche das temporäre Verzeichnis\n",
    "    shutil.rmtree(temp_dir)\n",
    "\n",
    "    # Wechsel in das Zielverzeichnis\n",
    "    os.chdir(target_dir)\n",
    "\n",
    "    # Zeige den aktuellen Pfad an\n",
    "    print(f\"Aktuelles Verzeichnis: {os.getcwd()}\")\n",
    "\n",
    "    # Liste die Dateien im Zielverzeichnis auf\n",
    "    print(\"Inhalt des Zielverzeichnisses:\")\n",
    "    !ls -la\n",
    "\n",
    "# Funktion ausführen\n",
    "clone_and_setup(git_repo_url, branch_name, temp_dir, target_dir, source_subdir_name)"
   ]
  },
  {
   "cell_type": "markdown",
   "metadata": {},
   "source": [
    "https://dashboard.ngrok.com/get-started/your-authtoken\n",
    "\n",
    "Tocken eingeben und Port setzten:"
   ]
  },
  {
   "cell_type": "code",
   "execution_count": null,
   "metadata": {},
   "outputs": [],
   "source": [
    "# Parameter als Variable speichern\n",
    "env_content = f\"\"\"NGROK_AUTHTOKEN=\n",
    "PROJECT_PATH_TEMPLATE={target_dir}\n",
    "PORT=\n",
    "\"\"\"\n",
    "\n",
    "# Funktion zur Erstellung der .env Datei\n",
    "def create_env_file(target_dir, env_content):\n",
    "    env_file_path = os.path.join(target_dir, '.env')\n",
    "    with open(env_file_path, 'w') as env_file:\n",
    "        env_file.write(env_content)\n",
    "    print(f\".env Datei wurde erfolgreich erstellt unter: {env_file_path}\")\n",
    "\n",
    "# Funktion ausführen\n",
    "create_env_file(target_dir, env_content)\n",
    "env_content\n"
   ]
  }
 ],
 "metadata": {
  "language_info": {
   "name": "python"
  }
 },
 "nbformat": 4,
 "nbformat_minor": 2
}
