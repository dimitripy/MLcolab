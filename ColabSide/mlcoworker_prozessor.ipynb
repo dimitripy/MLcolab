{
 "cells": [
  {
   "cell_type": "code",
   "execution_count": null,
   "metadata": {},
   "outputs": [],
   "source": [
    "!pip install aiohttp nest_asyncio\n",
    "!pip install pyngrok"
   ]
  },
  {
   "cell_type": "code",
   "execution_count": null,
   "metadata": {},
   "outputs": [],
   "source": [
    "import psutil\n",
    "import os\n",
    "\n",
    "def kill_port(port):\n",
    "    for proc in psutil.process_iter(['pid', 'name']):\n",
    "        for conn in proc.connections(kind='inet'):\n",
    "            if conn.laddr.port == port:\n",
    "                os.kill(proc.info['pid'], 9)  # Beende den Prozess auf dem angegebenen Port\n",
    "                print(f\"Prozess {proc.info['pid']} auf Port {port} wurde beendet.\")\n",
    "\n",
    "# Port 8081 freigeben, falls er belegt ist\n",
    "kill_port(8081)"
   ]
  },
  {
   "cell_type": "code",
   "execution_count": null,
   "metadata": {},
   "outputs": [],
   "source": [
    "# start_server.py\n",
    "import asyncio\n",
    "from prozessor_utils.main_server import main\n",
    "from prozessor_utils.ngrok_utils import start_ngrok\n",
    "\n",
    "async def start_services():\n",
    "    await main()\n",
    "    authtoken = \"2ltJwdZ4ItmsDom35mIM3kz7wCT_6yKrmv2HpAMhZemSV2iwa\"\n",
    "    await start_ngrok(authtoken, 4041)\n",
    "\n",
    "# Event-Loop starten\n",
    "if __name__ == \"__main__\":\n",
    "    loop = asyncio.get_event_loop()\n",
    "    loop.run_until_complete(start_services())\n"
   ]
  }
 ],
 "metadata": {
  "language_info": {
   "name": "python"
  }
 },
 "nbformat": 4,
 "nbformat_minor": 2
}
