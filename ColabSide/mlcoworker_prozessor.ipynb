{
 "cells": [
  {
   "cell_type": "code",
   "execution_count": null,
   "metadata": {},
   "outputs": [],
   "source": [
    "!pip install aiohttp nest_asyncio\n",
    "!pip install pyngrok\n",
    "!pip install dotenv\n",
    "!pip install psutil"
   ]
  },
  {
   "cell_type": "code",
   "execution_count": null,
   "metadata": {},
   "outputs": [],
   "source": [
    "import psutil\n",
    "import os\n",
    "\n",
    "def kill_port(port):\n",
    "    for proc in psutil.process_iter(['pid', 'name']):\n",
    "        for conn in proc.connections(kind='inet'):\n",
    "            if conn.laddr.port == port:\n",
    "                os.kill(proc.info['pid'], 9)  # Beende den Prozess auf dem angegebenen Port\n",
    "                print(f\"Prozess {proc.info['pid']} auf Port {port} wurde beendet.\")\n",
    "\n",
    "# Port 8081 freigeben, falls er belegt ist\n",
    "kill_port(8081)"
   ]
  },
  {
   "cell_type": "code",
   "execution_count": null,
   "metadata": {},
   "outputs": [],
   "source": [
    "# start_server.py\n",
    "import asyncio\n",
    "from prozessor_utils.flask_server import app\n",
    "from prozessor_utils.ngrok_utils import start_ngrok\n",
    "from dotenv import load_dotenv\n",
    "import os\n",
    "\n",
    "load_dotenv()\n",
    "\n",
    "async def start_services():\n",
    "    try:\n",
    "        authtoken = os.getenv(\"NGROK_AUTHTOKEN\")\n",
    "        port = int(os.getenv(\"PORT\", 5000))\n",
    "        await start_ngrok(authtoken, port)\n",
    "    except Exception as e:\n",
    "        print(f\"Fehler beim Starten der Dienste: {str(e)}\")\n",
    "\n",
    "if __name__ == \"__main__\":\n",
    "    port = int(os.getenv(\"PORT\", 5000))\n",
    "    loop = asyncio.get_event_loop()\n",
    "    loop.run_until_complete(start_services())\n",
    "    app.run(port=port)\n"
   ]
  }
 ],
 "metadata": {
  "language_info": {
   "name": "python"
  }
 },
 "nbformat": 4,
 "nbformat_minor": 2
}
