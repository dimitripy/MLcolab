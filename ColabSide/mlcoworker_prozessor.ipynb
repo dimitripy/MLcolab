{
 "cells": [
  {
   "cell_type": "code",
   "execution_count": null,
   "metadata": {},
   "outputs": [],
   "source": [
    "!pip install aiohttp nest_asyncio\n",
    "!pip install pyngrok\n",
    "!pip install python-dotenv\n",
    "!pip install psutil\n",
    "!pip install gitpython"
   ]
  },
  {
   "cell_type": "code",
   "execution_count": null,
   "metadata": {},
   "outputs": [],
   "source": [
    "import psutil\n",
    "import os\n",
    "\n",
    "def kill_port(port):\n",
    "    for proc in psutil.process_iter(['pid', 'name']):\n",
    "        for conn in proc.connections(kind='inet'):\n",
    "            if conn.laddr.port == port:\n",
    "                os.kill(proc.info['pid'], 9)  # Beende den Prozess auf dem angegebenen Port\n",
    "                print(f\"Prozess {proc.info['pid']} auf Port {port} wurde beendet.\")\n",
    "\n",
    "# Port 8081 freigeben, falls er belegt ist\n",
    "kill_port(8081)"
   ]
  },
  {
   "cell_type": "code",
   "execution_count": null,
   "metadata": {},
   "outputs": [],
   "source": [
    "#EASY MODE\n",
    "\n",
    "!pip install flask pyngrok python-dotenv\n",
    "\n",
    "import os\n",
    "from flask import Flask, jsonify\n",
    "from pyngrok import ngrok\n",
    "from dotenv import load_dotenv\n",
    "\n",
    "# Lade Umgebungsvariablen aus .env-Datei\n",
    "load_dotenv()\n",
    "\n",
    "app = Flask(__name__)\n",
    "\n",
    "# Health-Check Route\n",
    "@app.route('/health', methods=['GET'])\n",
    "def health():\n",
    "    return jsonify({'status': 'healthy'})\n",
    "\n",
    "if __name__ == \"__main__\":\n",
    "    # Hole die ngrok Authtoken und den Port aus den Umgebungsvariablen\n",
    "    authtoken = os.getenv(\"NGROK_AUTHTOKEN\")\n",
    "    print(f\"Der Authtoken ist: {authtoken}\")\n",
    "    port = int(os.getenv(\"PORT\", 5000))\n",
    "    print(f\"Der Port ist: {port}\")\n",
    "\n",
    "    # Starte ngrok und öffne den Tunnel\n",
    "    ngrok.set_auth_token(authtoken)\n",
    "    public_url = ngrok.connect(port)\n",
    "    print(f\"ngrok-Tunnel geöffnet unter {public_url}\")\n",
    "\n",
    "    # Starte den Flask-Server auf dem angegebenen Port\n",
    "    app.run(port=port)"
   ]
  },
  {
   "cell_type": "code",
   "execution_count": null,
   "metadata": {},
   "outputs": [],
   "source": [
    "#START mit ngrok\n",
    "# start_server.py\n",
    "import asyncio\n",
    "from prozessor_utils.flask_server import app\n",
    "from prozessor_utils.ngrok_utils import start_ngrok\n",
    "from dotenv import load_dotenv\n",
    "import os\n",
    "\n",
    "load_dotenv()\n",
    "\n",
    "async def start_services():\n",
    "    try:\n",
    "        authtoken = os.getenv(\"NGROK_AUTHTOKEN\")\n",
    "        port = int(os.getenv(\"PORT\", 5000))\n",
    "        await start_ngrok(authtoken, port)\n",
    "    except Exception as e:\n",
    "        print(f\"Fehler beim Starten der Dienste: {str(e)}\")\n",
    "\n",
    "if __name__ == \"__main__\":\n",
    "    port = int(os.getenv(\"PORT\", 5000))\n",
    "    loop = asyncio.get_event_loop()\n",
    "    loop.run_until_complete(start_services())\n",
    "    app.run(port=port)\n"
   ]
  }
 ],
 "metadata": {
  "language_info": {
   "name": "python"
  }
 },
 "nbformat": 4,
 "nbformat_minor": 2
}
